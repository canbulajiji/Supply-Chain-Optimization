{
 "cells": [
  {
   "cell_type": "markdown",
   "metadata": {},
   "source": [
    "# Intro: Linear/Nonlinear Optimization in Python"
   ]
  },
  {
   "cell_type": "markdown",
   "metadata": {},
   "source": [
    "Python 提供多种库来解决最优化的问题，对线性规划，python提供了linprog,也可以直接使用minimize. 如以下的问题：\n",
    "$$ \\large 目标函数：\\begin{equation}\\begin{array}{l} min  f=-\\ x_1-\\ x_2-\\ x_3 \\end{array}\\end{equation}  $$  \n",
    "$$ \\large s.t. \\left\\{  \n",
    "\\begin{array}{rcl}  \n",
    "7 \\ x_1 +3 \\ x_2+9 \\ x_3 \\leq 1\\\\\n",
    "8 \\ x_1 +5 \\ x_2+4 \\ x_3 \\leq 1\\\\\n",
    "6 \\ x_1 +9 \\ x_2+5 \\ x_3 \\leq 1\\\\\n",
    "x_1,x_2,x_3 \\geq 0\n",
    "\\end{array} \\right. $$"
   ]
  },
  {
   "cell_type": "code",
   "execution_count": 39,
   "metadata": {},
   "outputs": [],
   "source": [
    "import numpy as np\n",
    "from scipy import optimize\n",
    "import pandas as pd"
   ]
  },
  {
   "cell_type": "code",
   "execution_count": 40,
   "metadata": {},
   "outputs": [
    {
     "data": {
      "text/plain": [
       "     con: array([], dtype=float64)\n",
       "     fun: -0.15415019419978693\n",
       " message: 'Optimization terminated successfully.'\n",
       "     nit: 9\n",
       "   slack: array([9.32575905e-09, 2.64429326e-07, 9.03222153e-09])\n",
       "  status: 0\n",
       " success: True\n",
       "       x: array([0.08695645, 0.03557314, 0.0316206 ])"
      ]
     },
     "execution_count": 40,
     "metadata": {},
     "output_type": "execute_result"
    }
   ],
   "source": [
    "f = np.array([-1, -1, -1])\n",
    "A_ub = np.array([[7, 3, 9],[8, 5, 4],[6, 9, 5]])\n",
    "b_ub = np.array([1, 1, 1])\n",
    "lb =((0,100),(0,100),(0,100));\n",
    "optimize.linprog(f, A_ub, b_ub,bounds=lb)"
   ]
  },
  {
   "cell_type": "markdown",
   "metadata": {},
   "source": [
    "Alternatively"
   ]
  },
  {
   "cell_type": "code",
   "execution_count": 45,
   "metadata": {},
   "outputs": [
    {
     "data": {
      "text/plain": [
       "     fun: -0.15415019762845847\n",
       "     jac: array([-1., -1., -1.])\n",
       " message: 'Optimization terminated successfully.'\n",
       "    nfev: 10\n",
       "     nit: 2\n",
       "    njev: 2\n",
       "  status: 0\n",
       " success: True\n",
       "       x: array([0.08695652, 0.03557312, 0.03162055])"
      ]
     },
     "execution_count": 45,
     "metadata": {},
     "output_type": "execute_result"
    }
   ],
   "source": [
    "v = np.array([-1, -1, -1])\n",
    "def f(x,v):\n",
    "    return np.sum(x*v)\n",
    "initial=np.array([0,0,0])\n",
    "cons1={'type':'eq','fun':lambda x:f(x,A_ub[0])-b_ub[0]}\n",
    "cons2={'type':'eq','fun':lambda x:f(x,A_ub[1])-b_ub[1]}\n",
    "cons3={'type':'eq','fun':lambda x:f(x,A_ub[2])-b_ub[2]}\n",
    "res=optimize.minimize(f,initial,v,constraints=[cons1,cons2,cons3],bounds=((0,100),(0,100),(0,100)))\n",
    "res"
   ]
  },
  {
   "cell_type": "code",
   "execution_count": 54,
   "metadata": {},
   "outputs": [
    {
     "data": {
      "text/plain": [
       "     fun: -0.15415019762845847\n",
       "     jac: array([-1., -1., -1.])\n",
       " message: 'Optimization terminated successfully.'\n",
       "    nfev: 10\n",
       "     nit: 2\n",
       "    njev: 2\n",
       "  status: 0\n",
       " success: True\n",
       "       x: array([0.08695652, 0.03557312, 0.03162055])"
      ]
     },
     "execution_count": 54,
     "metadata": {},
     "output_type": "execute_result"
    }
   ],
   "source": [
    "fun = lambda x: -1*x[0] - 1*x[1] - 1*x[2]\n",
    "cons = ({'type': 'eq', 'fun': lambda x:  7*x[0] + 3*x[1] + 9*x[2] - 1},\n",
    "        {'type': 'eq', 'fun': lambda x: 8*x[0] + 5*x[1] + 4*x[2]- 1},\n",
    "        {'type': 'eq', 'fun': lambda x: 6*x[0] + 9*x[1] + 5*x[2] - 1})\n",
    "bnds = ((0, 100), (0, 100), (0,1))\n",
    "res = optimize.minimize(fun, (0,0,0), bounds=bnds, constraints=cons)\n",
    "res"
   ]
  },
  {
   "cell_type": "markdown",
   "metadata": {},
   "source": [
    "又或者可以用pulp库：使用pulp库之前，需要在cmd中输入如下的安装语句：\n",
    "pip install pulp"
   ]
  },
  {
   "cell_type": "code",
   "execution_count": 55,
   "metadata": {},
   "outputs": [],
   "source": [
    "from pulp import *"
   ]
  },
  {
   "cell_type": "code",
   "execution_count": 97,
   "metadata": {},
   "outputs": [
    {
     "name": "stdout",
     "output_type": "stream",
     "text": [
      "Status: Optimal\n",
      "x = 0.086956522\n",
      "y = 0.035573123\n",
      "z = 0.031620553\n"
     ]
    }
   ],
   "source": [
    "my_LpProblem = LpProblem(\"test1\",LpMinimize)\n",
    "x = LpVariable(\"x\",0)\n",
    "y = LpVariable(\"y\",0)\n",
    "z = LpVariable(\"z\",0)\n",
    "\n",
    "my_LpProblem += -x-y-z, \"obj\"\n",
    "my_LpProblem += 7*x + 3*y + 9*z <= 1, \"c1\"\n",
    "my_LpProblem +=  8*x + 5*y + 4*z <= 1, \"c2\"\n",
    "my_LpProblem += 6*x + 9*y +5*z <= 1, \"c3\"\n",
    "\n",
    "my_LpProblem.solve()\n",
    "\n",
    "print(\"Status:\",LpStatus[my_LpProblem.status])\n",
    "\n",
    "for v in my_LpProblem.variables():\n",
    "    print(v.name,\"=\", v.varValue)"
   ]
  },
  {
   "cell_type": "markdown",
   "metadata": {},
   "source": [
    "总结：optimize库提供的linprog可以用于简单的线性规划问题，pulp库可以应用于较为复杂的线性规划问题，\n",
    "pulp库的使用更加直观。optimize库也提供了minimize函数，既可以用于线性规划，也可以用于非线性规划，\n",
    "以下面的例子来说明minimize在非线性最优化的应用。"
   ]
  },
  {
   "cell_type": "code",
   "execution_count": null,
   "metadata": {},
   "outputs": [],
   "source": []
  },
  {
   "cell_type": "code",
   "execution_count": null,
   "metadata": {},
   "outputs": [],
   "source": []
  },
  {
   "cell_type": "code",
   "execution_count": null,
   "metadata": {},
   "outputs": [],
   "source": []
  },
  {
   "cell_type": "code",
   "execution_count": null,
   "metadata": {},
   "outputs": [],
   "source": []
  },
  {
   "cell_type": "code",
   "execution_count": null,
   "metadata": {},
   "outputs": [],
   "source": []
  },
  {
   "cell_type": "code",
   "execution_count": null,
   "metadata": {},
   "outputs": [],
   "source": []
  }
 ],
 "metadata": {
  "kernelspec": {
   "display_name": "Python 3",
   "language": "python",
   "name": "python3"
  },
  "language_info": {
   "codemirror_mode": {
    "name": "ipython",
    "version": 3
   },
   "file_extension": ".py",
   "mimetype": "text/x-python",
   "name": "python",
   "nbconvert_exporter": "python",
   "pygments_lexer": "ipython3",
   "version": "3.7.1"
  }
 },
 "nbformat": 4,
 "nbformat_minor": 2
}
