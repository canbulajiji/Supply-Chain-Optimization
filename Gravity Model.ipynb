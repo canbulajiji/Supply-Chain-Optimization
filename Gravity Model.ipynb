{
 "cells": [
  {
   "cell_type": "markdown",
   "metadata": {},
   "source": [
    "# Supply Chain Network Design"
   ]
  },
  {
   "cell_type": "markdown",
   "metadata": {},
   "source": [
    "## Case Study: GRAVITY LOCATION MODELS"
   ]
  },
  {
   "cell_type": "markdown",
   "metadata": {},
   "source": [
    "Introduction:\n",
    "\n",
    "Steel Appliances(SA), a manufacturer of high-quality refrigerators and cooking ranges. SA has one assembly factory located near Denver, from which it has supplied the entire United States. Demand has grown rapidly and the CEO of SA has decided to set up another factory to serve its eastern markets. The supply chain manager is asked to find a suitable location for the new factory. Three parts plants located in Buffalo, Boston, Jacksonville, Philadelphia, and New York. The coordinate location, the demand in each market, the required supply from each parts plant, and the shipping cost for each supply source or market are shown in SA.Excel."
   ]
  },
  {
   "cell_type": "code",
   "execution_count": 1,
   "metadata": {},
   "outputs": [],
   "source": [
    "from IPython.display import Image\n",
    "from pulp import * # Import PuLP modeler functions\n",
    "import pandas as pd\n",
    "import numpy as np\n",
    "from scipy.optimize import minimize"
   ]
  },
  {
   "cell_type": "code",
   "execution_count": 2,
   "metadata": {},
   "outputs": [
    {
     "data": {
      "image/png": "[encoded data removed]",
      "text/plain": [
       "<IPython.core.display.Image object>"
      ]
     },
     "execution_count": 2,
     "metadata": {
      "image/png": {
       "height": 800,
       "width": 800
      }
     },
     "output_type": "execute_result"
    }
   ],
   "source": [
    "Image(filename='picture5.png',width=800,height=800)"
   ]
  },
  {
   "cell_type": "markdown",
   "metadata": {},
   "source": [
    "Model Setup"
   ]
  },
  {
   "cell_type": "code",
   "execution_count": 3,
   "metadata": {},
   "outputs": [
    {
     "data": {
      "image/png": "[encoded data removed]",
      "text/plain": [
       "<IPython.core.display.Image object>"
      ]
     },
     "execution_count": 3,
     "metadata": {
      "image/png": {
       "height": 800,
       "width": 800
      }
     },
     "output_type": "execute_result"
    }
   ],
   "source": [
    "Image(filename='picture4.png',width=800,height=800)"
   ]
  },
  {
   "cell_type": "markdown",
   "metadata": {},
   "source": [
    "Objective:\n",
    "\n",
    "$\\operatorname{Min} \\mathrm{TC}=\\sum_{n=1}^{k} d_{n} D_{n} F_{n}$\n",
    "with distance: $d_{n}=\\sqrt{\\left(x-x_{n}\\right)^{2}+\\left(y-y_{n}\\right)^{2}}$"
   ]
  },
  {
   "cell_type": "markdown",
   "metadata": {},
   "source": [
    "### <font color=yellow>Method one: non-linear optimiztion in scipy.optimize</font>"
   ]
  },
  {
   "cell_type": "code",
   "execution_count": 4,
   "metadata": {},
   "outputs": [
    {
     "name": "stderr",
     "output_type": "stream",
     "text": [
      "C:\\ProgramData\\Anaconda3\\lib\\site-packages\\scipy\\optimize\\_minimize.py:522: RuntimeWarning: Method BFGS cannot handle constraints nor bounds.\n",
      "  RuntimeWarning)\n"
     ]
    },
    {
     "data": {
      "text/plain": [
       "      fun: 1265235.3921309123\n",
       " hess_inv: array([[ 0.00617921, -0.00617226],\n",
       "       [-0.00617226,  0.0074249 ]])\n",
       "      jac: array([0., 0.])\n",
       "  message: 'Optimization terminated successfully.'\n",
       "     nfev: 104\n",
       "      nit: 12\n",
       "     njev: 26\n",
       "   status: 0\n",
       "  success: True\n",
       "        x: array([681.30167171, 881.99491536])"
      ]
     },
     "execution_count": 4,
     "metadata": {},
     "output_type": "execute_result"
    }
   ],
   "source": [
    "def distance(z):\n",
    "    x,y = z\n",
    "    dist = 0\n",
    "    xn = [700,250,225,600,1050,800,925,1000]\n",
    "    yn = [1200,600,825,500,1200,300,975,1080]\n",
    "    Fn = [0.9,0.95,0.85,1.5,1.5,1.5,1.5,1.5]\n",
    "    Dn = [500,300,700,225,150,250,175,300]\n",
    "    for i in range(len(xn)):\n",
    "        fun = np.sqrt((xn[i] - x)**2 + (yn[i] - y)**2)*Fn[i]*Dn[i]\n",
    "        dist += fun\n",
    "    return dist\n",
    "      \n",
    "\n",
    "bnds = ((0, None), (0, None))\n",
    "res = minimize(distance, (0, 0), method='BFGS', bounds=bnds)\n",
    "\n",
    "res"
   ]
  },
  {
   "cell_type": "markdown",
   "metadata": {},
   "source": [
    "### <font color=yellow>Method Two: First order derivative rule</font>"
   ]
  },
  {
   "cell_type": "code",
   "execution_count": 66,
   "metadata": {},
   "outputs": [],
   "source": [
    "def xy_update(x,y):\n",
    "    xn = [700,250,225,600,1050,800,925,1000]\n",
    "    yn = [1200,600,825,500,1200,300,975,1080]\n",
    "    Fn = [0.9,0.95,0.85,1.5,1.5,1.5,1.5,1.5]\n",
    "    Dn = [500,300,700,225,150,250,175,300]\n",
    "    x_denom = 0\n",
    "    y_denom = 0\n",
    "    numerat = 0\n",
    "    for i in range(len(xn)):\n",
    "        dn = np.sqrt((xn[i] - x)**2 + (yn[i] - y)**2)\n",
    "        x_denom += Dn[i]*Fn[i]*xn[i]/dn\n",
    "        y_denom += Dn[i]*Fn[i]*yn[i]/dn\n",
    "        numerat += Dn[i]*Fn[i]/dn\n",
    "    x_new = x_denom/numerat\n",
    "    y_new = y_denom/numerat\n",
    "    error = (x_new - x)**2 + (y_new - y)**2\n",
    "    return x_new, y_new, error"
   ]
  },
  {
   "cell_type": "code",
   "execution_count": 67,
   "metadata": {},
   "outputs": [],
   "source": [
    "x=0.1\n",
    "y=0.1\n",
    "dn=100\n",
    "while dn > 0.001:\n",
    "    x_old = x\n",
    "    y_old = y\n",
    "    x,y,dn = xy_update(x_old,y_old)"
   ]
  },
  {
   "cell_type": "code",
   "execution_count": 68,
   "metadata": {},
   "outputs": [
    {
     "data": {
      "text/plain": [
       "(681.2508976492496, 881.9446358471249, 0.0008254746117231011)"
      ]
     },
     "execution_count": 68,
     "metadata": {},
     "output_type": "execute_result"
    }
   ],
   "source": [
    "x,y,dn"
   ]
  },
  {
   "cell_type": "markdown",
   "metadata": {},
   "source": [
    "### <font color=yellow>Data Visualization</font>"
   ]
  },
  {
   "cell_type": "code",
   "execution_count": 75,
   "metadata": {},
   "outputs": [
    {
     "data": {
      "image/png": "[encoded data removed]",
      "text/plain": [
       "<Figure size 432x288 with 1 Axes>"
      ]
     },
     "metadata": {
      "needs_background": "light"
     },
     "output_type": "display_data"
    }
   ],
   "source": [
    "from numpy import *;\n",
    "import matplotlib.pyplot as plt\n",
    "xn = [700,250,225,600,1050,800,925,1000]\n",
    "yn = [1200,600,825,500,1200,300,975,1080] \n",
    "\n",
    "colors = np.random.rand(len(xn)) # 随机产生50个0~1之间的颜色值\n",
    "area = np.pi * (15 * np.random.rand(N))**2  # 点的半径范围:0~15 \n",
    "txt = ['Buffalo','Memphis','St. Louis','Atlanta','Boston','Jacksonville',\n",
    "       'Philadelphia','New York']\n",
    "# 画散点图\n",
    "fig,ax=plt.subplots()\n",
    "ax.scatter(xn, yn, c=colors, marker='*')\n",
    "ax.scatter(x, y, c='red',s = 80)\n",
    "ax.annotate('Facility',(x,y))\n",
    "for i in range(len(xn)):\n",
    "    ax.annotate(txt[i],(xn[i],yn[i]))"
   ]
  },
  {
   "cell_type": "code",
   "execution_count": null,
   "metadata": {},
   "outputs": [],
   "source": []
  },
  {
   "cell_type": "code",
   "execution_count": null,
   "metadata": {},
   "outputs": [],
   "source": []
  }
 ],
 "metadata": {
  "kernelspec": {
   "display_name": "Python 3",
   "language": "python",
   "name": "python3"
  },
  "language_info": {
   "codemirror_mode": {
    "name": "ipython",
    "version": 3
   },
   "file_extension": ".py",
   "mimetype": "text/x-python",
   "name": "python",
   "nbconvert_exporter": "python",
   "pygments_lexer": "ipython3",
   "version": "3.7.1"
  }
 },
 "nbformat": 4,
 "nbformat_minor": 2
}
